{
 "cells": [
  {
   "cell_type": "code",
   "execution_count": 1,
   "metadata": {},
   "outputs": [],
   "source": [
    "import warnings\n",
    "warnings.filterwarnings(\"ignore\")\n",
    "import numpy as np\n",
    "import pandas as pd\n",
    "import matplotlib.pyplot as plt\n",
    "import seaborn as sns\n",
    "from sklearn.metrics import log_loss\n",
    "from sklearn.metrics import classification_report\n",
    "from sklearn.metrics import accuracy_score\n",
    "from sklearn.model_selection import train_test_split\n",
    "from sklearn.linear_model import LogisticRegression\n",
    "from sklearn.ensemble import RandomForestClassifier\n",
    "from sklearn.neighbors import KNeighborsClassifier\n",
    "from sklearn.linear_model import SGDClassifier\n",
    "from sklearn.calibration import CalibratedClassifierCV\n",
    "from tqdm import tqdm\n",
    "\n",
    "%matplotlib inline"
   ]
  },
  {
   "cell_type": "code",
   "execution_count": 2,
   "metadata": {},
   "outputs": [],
   "source": [
    "et = pd.read_csv(\"email_table.csv\") "
   ]
  },
  {
   "cell_type": "code",
   "execution_count": 3,
   "metadata": {},
   "outputs": [
    {
     "data": {
      "text/html": [
       "<div>\n",
       "<style scoped>\n",
       "    .dataframe tbody tr th:only-of-type {\n",
       "        vertical-align: middle;\n",
       "    }\n",
       "\n",
       "    .dataframe tbody tr th {\n",
       "        vertical-align: top;\n",
       "    }\n",
       "\n",
       "    .dataframe thead th {\n",
       "        text-align: right;\n",
       "    }\n",
       "</style>\n",
       "<table border=\"1\" class=\"dataframe\">\n",
       "  <thead>\n",
       "    <tr style=\"text-align: right;\">\n",
       "      <th></th>\n",
       "      <th>email_id</th>\n",
       "      <th>email_text</th>\n",
       "      <th>email_version</th>\n",
       "      <th>hour</th>\n",
       "      <th>weekday</th>\n",
       "      <th>user_country</th>\n",
       "      <th>user_past_purchases</th>\n",
       "    </tr>\n",
       "  </thead>\n",
       "  <tbody>\n",
       "    <tr>\n",
       "      <th>0</th>\n",
       "      <td>85120</td>\n",
       "      <td>short_email</td>\n",
       "      <td>personalized</td>\n",
       "      <td>2</td>\n",
       "      <td>Sunday</td>\n",
       "      <td>US</td>\n",
       "      <td>5</td>\n",
       "    </tr>\n",
       "    <tr>\n",
       "      <th>1</th>\n",
       "      <td>966622</td>\n",
       "      <td>long_email</td>\n",
       "      <td>personalized</td>\n",
       "      <td>12</td>\n",
       "      <td>Sunday</td>\n",
       "      <td>UK</td>\n",
       "      <td>2</td>\n",
       "    </tr>\n",
       "    <tr>\n",
       "      <th>2</th>\n",
       "      <td>777221</td>\n",
       "      <td>long_email</td>\n",
       "      <td>personalized</td>\n",
       "      <td>11</td>\n",
       "      <td>Wednesday</td>\n",
       "      <td>US</td>\n",
       "      <td>2</td>\n",
       "    </tr>\n",
       "    <tr>\n",
       "      <th>3</th>\n",
       "      <td>493711</td>\n",
       "      <td>short_email</td>\n",
       "      <td>generic</td>\n",
       "      <td>6</td>\n",
       "      <td>Monday</td>\n",
       "      <td>UK</td>\n",
       "      <td>1</td>\n",
       "    </tr>\n",
       "    <tr>\n",
       "      <th>4</th>\n",
       "      <td>106887</td>\n",
       "      <td>long_email</td>\n",
       "      <td>generic</td>\n",
       "      <td>14</td>\n",
       "      <td>Monday</td>\n",
       "      <td>US</td>\n",
       "      <td>6</td>\n",
       "    </tr>\n",
       "  </tbody>\n",
       "</table>\n",
       "</div>"
      ],
      "text/plain": [
       "   email_id   email_text email_version  hour    weekday user_country  \\\n",
       "0     85120  short_email  personalized     2     Sunday           US   \n",
       "1    966622   long_email  personalized    12     Sunday           UK   \n",
       "2    777221   long_email  personalized    11  Wednesday           US   \n",
       "3    493711  short_email       generic     6     Monday           UK   \n",
       "4    106887   long_email       generic    14     Monday           US   \n",
       "\n",
       "   user_past_purchases  \n",
       "0                    5  \n",
       "1                    2  \n",
       "2                    2  \n",
       "3                    1  \n",
       "4                    6  "
      ]
     },
     "execution_count": 3,
     "metadata": {},
     "output_type": "execute_result"
    }
   ],
   "source": [
    "et.head()"
   ]
  },
  {
   "cell_type": "code",
   "execution_count": 4,
   "metadata": {},
   "outputs": [
    {
     "name": "stdout",
     "output_type": "stream",
     "text": [
      "the number of unique emails in email_table.csv data 100000\n"
     ]
    }
   ],
   "source": [
    "# number of unique emails in email_table.csv\n",
    "\n",
    "et_set = set(et[\"email_id\"].unique())\n",
    "print(\"the number of unique emails in email_table.csv data\",len(et[\"email_id\"].unique()))"
   ]
  },
  {
   "cell_type": "code",
   "execution_count": 5,
   "metadata": {},
   "outputs": [
    {
     "data": {
      "text/html": [
       "<div>\n",
       "<style scoped>\n",
       "    .dataframe tbody tr th:only-of-type {\n",
       "        vertical-align: middle;\n",
       "    }\n",
       "\n",
       "    .dataframe tbody tr th {\n",
       "        vertical-align: top;\n",
       "    }\n",
       "\n",
       "    .dataframe thead th {\n",
       "        text-align: right;\n",
       "    }\n",
       "</style>\n",
       "<table border=\"1\" class=\"dataframe\">\n",
       "  <thead>\n",
       "    <tr style=\"text-align: right;\">\n",
       "      <th></th>\n",
       "      <th>email_id</th>\n",
       "    </tr>\n",
       "  </thead>\n",
       "  <tbody>\n",
       "    <tr>\n",
       "      <th>0</th>\n",
       "      <td>284534</td>\n",
       "    </tr>\n",
       "    <tr>\n",
       "      <th>1</th>\n",
       "      <td>609056</td>\n",
       "    </tr>\n",
       "    <tr>\n",
       "      <th>2</th>\n",
       "      <td>220820</td>\n",
       "    </tr>\n",
       "    <tr>\n",
       "      <th>3</th>\n",
       "      <td>905936</td>\n",
       "    </tr>\n",
       "    <tr>\n",
       "      <th>4</th>\n",
       "      <td>164034</td>\n",
       "    </tr>\n",
       "  </tbody>\n",
       "</table>\n",
       "</div>"
      ],
      "text/plain": [
       "   email_id\n",
       "0    284534\n",
       "1    609056\n",
       "2    220820\n",
       "3    905936\n",
       "4    164034"
      ]
     },
     "execution_count": 5,
     "metadata": {},
     "output_type": "execute_result"
    }
   ],
   "source": [
    "eot = pd.read_csv(\"email_opened_table.csv\")\n",
    "eot.head()"
   ]
  },
  {
   "cell_type": "code",
   "execution_count": 6,
   "metadata": {},
   "outputs": [
    {
     "name": "stdout",
     "output_type": "stream",
     "text": [
      "the number of unique emails in email_opened_table.csv data 10345\n"
     ]
    }
   ],
   "source": [
    "# number of unique emails in email_opened_table.csv\n",
    "\n",
    "eot_set = set(eot[\"email_id\"].unique())\n",
    "print(\"the number of unique emails in email_opened_table.csv data\",len(eot[\"email_id\"].unique()))"
   ]
  },
  {
   "cell_type": "code",
   "execution_count": 7,
   "metadata": {},
   "outputs": [
    {
     "data": {
      "text/html": [
       "<div>\n",
       "<style scoped>\n",
       "    .dataframe tbody tr th:only-of-type {\n",
       "        vertical-align: middle;\n",
       "    }\n",
       "\n",
       "    .dataframe tbody tr th {\n",
       "        vertical-align: top;\n",
       "    }\n",
       "\n",
       "    .dataframe thead th {\n",
       "        text-align: right;\n",
       "    }\n",
       "</style>\n",
       "<table border=\"1\" class=\"dataframe\">\n",
       "  <thead>\n",
       "    <tr style=\"text-align: right;\">\n",
       "      <th></th>\n",
       "      <th>email_id</th>\n",
       "    </tr>\n",
       "  </thead>\n",
       "  <tbody>\n",
       "    <tr>\n",
       "      <th>0</th>\n",
       "      <td>609056</td>\n",
       "    </tr>\n",
       "    <tr>\n",
       "      <th>1</th>\n",
       "      <td>870980</td>\n",
       "    </tr>\n",
       "    <tr>\n",
       "      <th>2</th>\n",
       "      <td>935124</td>\n",
       "    </tr>\n",
       "    <tr>\n",
       "      <th>3</th>\n",
       "      <td>158501</td>\n",
       "    </tr>\n",
       "    <tr>\n",
       "      <th>4</th>\n",
       "      <td>177561</td>\n",
       "    </tr>\n",
       "  </tbody>\n",
       "</table>\n",
       "</div>"
      ],
      "text/plain": [
       "   email_id\n",
       "0    609056\n",
       "1    870980\n",
       "2    935124\n",
       "3    158501\n",
       "4    177561"
      ]
     },
     "execution_count": 7,
     "metadata": {},
     "output_type": "execute_result"
    }
   ],
   "source": [
    "lct = pd.read_csv(\"link_clicked_table.csv\")\n",
    "lct.head()"
   ]
  },
  {
   "cell_type": "code",
   "execution_count": 8,
   "metadata": {},
   "outputs": [
    {
     "name": "stdout",
     "output_type": "stream",
     "text": [
      "the number of unique emails in link_clicked_table.csv data 2119\n"
     ]
    }
   ],
   "source": [
    "# number of unique emails in link_clicked_table.csv\n",
    "\n",
    "lct_set = set(lct[\"email_id\"].unique())\n",
    "print(\"the number of unique emails in link_clicked_table.csv data\",len(lct[\"email_id\"].unique()))"
   ]
  },
  {
   "cell_type": "code",
   "execution_count": 9,
   "metadata": {},
   "outputs": [
    {
     "data": {
      "text/plain": [
       "True"
      ]
     },
     "execution_count": 9,
     "metadata": {},
     "output_type": "execute_result"
    }
   ],
   "source": [
    "lct_set <= et_set"
   ]
  },
  {
   "cell_type": "code",
   "execution_count": 10,
   "metadata": {},
   "outputs": [
    {
     "data": {
      "text/plain": [
       "True"
      ]
     },
     "execution_count": 10,
     "metadata": {},
     "output_type": "execute_result"
    }
   ],
   "source": [
    "eot_set <= et_set"
   ]
  },
  {
   "cell_type": "code",
   "execution_count": 11,
   "metadata": {
    "scrolled": false
   },
   "outputs": [
    {
     "data": {
      "text/html": [
       "<div>\n",
       "<style scoped>\n",
       "    .dataframe tbody tr th:only-of-type {\n",
       "        vertical-align: middle;\n",
       "    }\n",
       "\n",
       "    .dataframe tbody tr th {\n",
       "        vertical-align: top;\n",
       "    }\n",
       "\n",
       "    .dataframe thead th {\n",
       "        text-align: right;\n",
       "    }\n",
       "</style>\n",
       "<table border=\"1\" class=\"dataframe\">\n",
       "  <thead>\n",
       "    <tr style=\"text-align: right;\">\n",
       "      <th></th>\n",
       "      <th>email_id</th>\n",
       "      <th>email_text</th>\n",
       "      <th>email_version</th>\n",
       "      <th>hour</th>\n",
       "      <th>weekday</th>\n",
       "      <th>user_country</th>\n",
       "      <th>user_past_purchases</th>\n",
       "      <th>opened</th>\n",
       "      <th>clicked</th>\n",
       "    </tr>\n",
       "  </thead>\n",
       "  <tbody>\n",
       "    <tr>\n",
       "      <th>0</th>\n",
       "      <td>85120</td>\n",
       "      <td>short_email</td>\n",
       "      <td>personalized</td>\n",
       "      <td>2</td>\n",
       "      <td>Sunday</td>\n",
       "      <td>US</td>\n",
       "      <td>5</td>\n",
       "      <td>0</td>\n",
       "      <td>0</td>\n",
       "    </tr>\n",
       "    <tr>\n",
       "      <th>1</th>\n",
       "      <td>966622</td>\n",
       "      <td>long_email</td>\n",
       "      <td>personalized</td>\n",
       "      <td>12</td>\n",
       "      <td>Sunday</td>\n",
       "      <td>UK</td>\n",
       "      <td>2</td>\n",
       "      <td>1</td>\n",
       "      <td>1</td>\n",
       "    </tr>\n",
       "    <tr>\n",
       "      <th>2</th>\n",
       "      <td>777221</td>\n",
       "      <td>long_email</td>\n",
       "      <td>personalized</td>\n",
       "      <td>11</td>\n",
       "      <td>Wednesday</td>\n",
       "      <td>US</td>\n",
       "      <td>2</td>\n",
       "      <td>0</td>\n",
       "      <td>0</td>\n",
       "    </tr>\n",
       "    <tr>\n",
       "      <th>3</th>\n",
       "      <td>493711</td>\n",
       "      <td>short_email</td>\n",
       "      <td>generic</td>\n",
       "      <td>6</td>\n",
       "      <td>Monday</td>\n",
       "      <td>UK</td>\n",
       "      <td>1</td>\n",
       "      <td>0</td>\n",
       "      <td>0</td>\n",
       "    </tr>\n",
       "    <tr>\n",
       "      <th>4</th>\n",
       "      <td>106887</td>\n",
       "      <td>long_email</td>\n",
       "      <td>generic</td>\n",
       "      <td>14</td>\n",
       "      <td>Monday</td>\n",
       "      <td>US</td>\n",
       "      <td>6</td>\n",
       "      <td>0</td>\n",
       "      <td>0</td>\n",
       "    </tr>\n",
       "  </tbody>\n",
       "</table>\n",
       "</div>"
      ],
      "text/plain": [
       "   email_id   email_text email_version  hour    weekday user_country  \\\n",
       "0     85120  short_email  personalized     2     Sunday           US   \n",
       "1    966622   long_email  personalized    12     Sunday           UK   \n",
       "2    777221   long_email  personalized    11  Wednesday           US   \n",
       "3    493711  short_email       generic     6     Monday           UK   \n",
       "4    106887   long_email       generic    14     Monday           US   \n",
       "\n",
       "   user_past_purchases  opened  clicked  \n",
       "0                    5       0        0  \n",
       "1                    2       1        1  \n",
       "2                    2       0        0  \n",
       "3                    1       0        0  \n",
       "4                    6       0        0  "
      ]
     },
     "execution_count": 11,
     "metadata": {},
     "output_type": "execute_result"
    }
   ],
   "source": [
    "# merging the datasets\n",
    "\n",
    "eot['opened'] = 1\n",
    "lct['clicked'] = 1\n",
    "df = pd.merge(left = et, right = eot, how = 'left', on = 'email_id')\n",
    "df = pd.merge(left = df, right = lct, how = 'left', on = 'email_id')\n",
    "df = df.fillna(value=0)\n",
    "df['opened'] = df['opened'].astype(int)\n",
    "df['clicked'] = df['clicked'].astype(int)\n",
    "\n",
    "df.head()"
   ]
  },
  {
   "cell_type": "code",
   "execution_count": 12,
   "metadata": {},
   "outputs": [],
   "source": [
    "y = df[\"clicked\"].values\n",
    "df = df.drop(columns = [\"clicked\"])\n",
    "x = df.values"
   ]
  },
  {
   "cell_type": "code",
   "execution_count": 13,
   "metadata": {},
   "outputs": [],
   "source": [
    "# train test split\n",
    "\n",
    "x_train, x_test, y_train, y_test = train_test_split(x, y, test_size=0.2, random_state = 0)\n",
    "x_train, x_cv, y_train, y_cv = train_test_split(x_train, y_train, test_size=0.2, random_state = 0)"
   ]
  },
  {
   "cell_type": "code",
   "execution_count": 14,
   "metadata": {},
   "outputs": [
    {
     "name": "stdout",
     "output_type": "stream",
     "text": [
      "shape of traning data (64000, 9)\n",
      "shape of cross validation data (16000, 9)\n",
      "shape of test data (20000, 9)\n"
     ]
    }
   ],
   "source": [
    "df_train = pd.DataFrame(x_train)\n",
    "df_train.columns = [\"email_id\",\"email_text\",\"email_version\",\"hour\",\"weekday\",\"user_country\",\"user_past_purchases\",\"opened\"]\n",
    "df_train[\"clicked\"] = y_train\n",
    "\n",
    "df_cv = pd.DataFrame(x_cv)\n",
    "df_cv.columns = [\"email_id\",\"email_text\",\"email_version\",\"hour\",\"weekday\",\"user_country\",\"user_past_purchases\",\"opened\"]\n",
    "df_cv[\"clicked\"] = y_cv\n",
    "\n",
    "df_test = pd.DataFrame(x_test)\n",
    "df_test.columns = [\"email_id\",\"email_text\",\"email_version\",\"hour\",\"weekday\",\"user_country\",\"user_past_purchases\",\"opened\"]\n",
    "df_test[\"clicked\"] = y_test\n",
    "\n",
    "print(\"shape of traning data\",df_train.shape)\n",
    "print(\"shape of cross validation data\",df_cv.shape)\n",
    "print(\"shape of test data\",df_test.shape)"
   ]
  },
  {
   "cell_type": "code",
   "execution_count": 15,
   "metadata": {
    "scrolled": true
   },
   "outputs": [
    {
     "data": {
      "text/plain": [
       "<matplotlib.axes._subplots.AxesSubplot at 0x1ffe876e6d8>"
      ]
     },
     "execution_count": 15,
     "metadata": {},
     "output_type": "execute_result"
    },
    {
     "data": {
      "image/png": "[encoded data removed]",
      "text/plain": [
       "<Figure size 432x288 with 1 Axes>"
      ]
     },
     "metadata": {
      "needs_background": "light"
     },
     "output_type": "display_data"
    }
   ],
   "source": [
    "# analyzing opened feature\n",
    "\n",
    "sns.countplot(x = \"opened\", data = df_train)"
   ]
  },
  {
   "cell_type": "code",
   "execution_count": 16,
   "metadata": {},
   "outputs": [
    {
     "data": {
      "text/plain": [
       "<matplotlib.axes._subplots.AxesSubplot at 0x1ffebb7f0f0>"
      ]
     },
     "execution_count": 16,
     "metadata": {},
     "output_type": "execute_result"
    },
    {
     "data": {
      "image/png": "[encoded data removed]",
      "text/plain": [
       "<Figure size 432x288 with 1 Axes>"
      ]
     },
     "metadata": {
      "needs_background": "light"
     },
     "output_type": "display_data"
    }
   ],
   "source": [
    "# analyzing clicked feature\n",
    "\n",
    "sns.countplot(x = \"clicked\", data = df_train)"
   ]
  },
  {
   "cell_type": "code",
   "execution_count": 17,
   "metadata": {},
   "outputs": [
    {
     "data": {
      "text/plain": [
       "<matplotlib.axes._subplots.AxesSubplot at 0x1ffebc05cf8>"
      ]
     },
     "execution_count": 17,
     "metadata": {},
     "output_type": "execute_result"
    },
    {
     "data": {
      "image/png": "[encoded data removed]",
      "text/plain": [
       "<Figure size 1080x360 with 2 Axes>"
      ]
     },
     "metadata": {
      "needs_background": "light"
     },
     "output_type": "display_data"
    }
   ],
   "source": [
    "# analyzing email_text feature\n",
    "\n",
    "plt.figure(figsize=(15,5))\n",
    "plt.subplot(1,2,1)\n",
    "sns.countplot(x = \"email_text\", data = df_train)\n",
    "plt.subplot(1,2,2)\n",
    "sns.barplot(x = 'email_text', y = 'clicked', data = df_train)"
   ]
  },
  {
   "cell_type": "code",
   "execution_count": 18,
   "metadata": {},
   "outputs": [
    {
     "data": {
      "text/plain": [
       "<matplotlib.axes._subplots.AxesSubplot at 0x1ffebe5cfd0>"
      ]
     },
     "execution_count": 18,
     "metadata": {},
     "output_type": "execute_result"
    },
    {
     "data": {
      "image/png": "[encoded data removed]",
      "text/plain": [
       "<Figure size 1080x360 with 2 Axes>"
      ]
     },
     "metadata": {
      "needs_background": "light"
     },
     "output_type": "display_data"
    }
   ],
   "source": [
    "# analyzing email_version feature\n",
    "\n",
    "plt.figure(figsize=(15,5))\n",
    "plt.subplot(1,2,1)\n",
    "sns.countplot(x = \"email_version\", data = df_train)\n",
    "plt.subplot(1,2,2)\n",
    "sns.barplot(x = 'email_version', y = 'clicked', data = df_train)"
   ]
  },
  {
   "cell_type": "code",
   "execution_count": 19,
   "metadata": {},
   "outputs": [
    {
     "data": {
      "text/plain": [
       "<matplotlib.axes._subplots.AxesSubplot at 0x1ffebd263c8>"
      ]
     },
     "execution_count": 19,
     "metadata": {},
     "output_type": "execute_result"
    },
    {
     "data": {
      "image/png": "[encoded data removed]",
      "text/plain": [
       "<Figure size 1080x360 with 2 Axes>"
      ]
     },
     "metadata": {
      "needs_background": "light"
     },
     "output_type": "display_data"
    }
   ],
   "source": [
    "# analyzing hour feature\n",
    "\n",
    "plt.figure(figsize=(15,5))\n",
    "plt.subplot(1,2,1)\n",
    "sns.countplot(x = \"hour\", data = df_train)\n",
    "plt.subplot(1,2,2)\n",
    "sns.barplot(x = 'hour', y = 'clicked', data = df_train)"
   ]
  },
  {
   "cell_type": "code",
   "execution_count": 20,
   "metadata": {},
   "outputs": [
    {
     "data": {
      "text/plain": [
       "<matplotlib.axes._subplots.AxesSubplot at 0x1ffec04ee80>"
      ]
     },
     "execution_count": 20,
     "metadata": {},
     "output_type": "execute_result"
    },
    {
     "data": {
      "image/png": "[encoded data removed]",
      "text/plain": [
       "<Figure size 1080x360 with 2 Axes>"
      ]
     },
     "metadata": {
      "needs_background": "light"
     },
     "output_type": "display_data"
    }
   ],
   "source": [
    "# analyzing weekday feature\n",
    "\n",
    "plt.figure(figsize=(15,5))\n",
    "plt.subplot(1,2,1)\n",
    "sns.countplot(x = \"weekday\", data = df_train)\n",
    "plt.subplot(1,2,2)\n",
    "sns.barplot(x = 'weekday', y = 'clicked', data = df_train)"
   ]
  },
  {
   "cell_type": "code",
   "execution_count": 21,
   "metadata": {},
   "outputs": [
    {
     "data": {
      "text/plain": [
       "<matplotlib.axes._subplots.AxesSubplot at 0x1ffec26c2b0>"
      ]
     },
     "execution_count": 21,
     "metadata": {},
     "output_type": "execute_result"
    },
    {
     "data": {
      "image/png": "[encoded data removed]",
      "text/plain": [
       "<Figure size 1080x360 with 2 Axes>"
      ]
     },
     "metadata": {
      "needs_background": "light"
     },
     "output_type": "display_data"
    }
   ],
   "source": [
    "# analyzing user_country feature\n",
    "\n",
    "plt.figure(figsize=(15,5))\n",
    "plt.subplot(1,2,1)\n",
    "sns.countplot(x = \"user_country\", data = df_train)\n",
    "plt.subplot(1,2,2)\n",
    "sns.barplot(x = 'user_country', y = 'clicked', data = df_train)"
   ]
  },
  {
   "cell_type": "code",
   "execution_count": 22,
   "metadata": {},
   "outputs": [
    {
     "data": {
      "text/plain": [
       "<matplotlib.axes._subplots.AxesSubplot at 0x1ffec31ddd8>"
      ]
     },
     "execution_count": 22,
     "metadata": {},
     "output_type": "execute_result"
    },
    {
     "data": {
      "image/png": "[encoded data removed]",
      "text/plain": [
       "<Figure size 1080x360 with 2 Axes>"
      ]
     },
     "metadata": {
      "needs_background": "light"
     },
     "output_type": "display_data"
    }
   ],
   "source": [
    "# analyzing user_past_purchases feature\n",
    "\n",
    "plt.figure(figsize=(15,5))\n",
    "plt.subplot(1,2,1)\n",
    "sns.countplot(x = \"user_past_purchases\", data = df_train)\n",
    "plt.subplot(1,2,2)\n",
    "sns.barplot(x = 'user_past_purchases', y = 'clicked', data = df_train)"
   ]
  },
  {
   "cell_type": "code",
   "execution_count": 23,
   "metadata": {},
   "outputs": [],
   "source": [
    "df_train = df_train.drop(columns = [\"opened\"])\n",
    "df_cv = df_cv.drop(columns = [\"opened\"])\n",
    "df_test = df_test.drop(columns = [\"opened\"])"
   ]
  },
  {
   "cell_type": "code",
   "execution_count": 24,
   "metadata": {},
   "outputs": [],
   "source": [
    "# response coding of hour feature\n",
    "\n",
    "hour_list_train = df_train[\"hour\"].unique()\n",
    "hour_list_cv = df_cv[\"hour\"].unique()\n",
    "hour_list_test = df_test[\"hour\"].unique()\n",
    "\n",
    "hour_arr_train =[]\n",
    "hour_arr_cv =[]\n",
    "hour_arr_test =[]\n",
    "\n",
    "for i in hour_list_train:\n",
    "    arr = np.zeros(2)\n",
    "    arr[0] = df_train[(df_train.hour == i) & (df_train.clicked == 0)].shape[0]/df_train[(df_train.hour == i)].shape[0]\n",
    "    arr[1] = df_train[(df_train.hour == i) & (df_train.clicked == 1)].shape[0]/df_train[(df_train.hour == i)].shape[0]\n",
    "    hour_arr_train.append(arr)\n",
    "    \n",
    "for i in hour_list_cv:\n",
    "    arr = np.zeros(2)\n",
    "    arr[0] = df_cv[(df_cv.hour == i) & (df_cv.clicked == 0)].shape[0]/df_cv[(df_cv.hour == i)].shape[0]\n",
    "    arr[1] = df_cv[(df_cv.hour == i) & (df_cv.clicked == 1)].shape[0]/df_cv[(df_cv.hour == i)].shape[0]\n",
    "    hour_arr_cv.append(arr)\n",
    "    \n",
    "for i in hour_list_test:\n",
    "    arr = np.zeros(2)\n",
    "    arr[0] = df_test[(df_test.hour == i) & (df_test.clicked == 0)].shape[0]/df_test[(df_test.hour == i)].shape[0]\n",
    "    arr[1] = df_test[(df_test.hour == i) & (df_test.clicked == 1)].shape[0]/df_test[(df_test.hour == i)].shape[0]\n",
    "    hour_arr_test.append(arr)    "
   ]
  },
  {
   "cell_type": "code",
   "execution_count": 25,
   "metadata": {},
   "outputs": [],
   "source": [
    "# response coding of weekday feature\n",
    "\n",
    "weekday_list_train = df_train[\"weekday\"].unique()\n",
    "weekday_list_cv = df_cv[\"weekday\"].unique()\n",
    "weekday_list_test = df_test[\"weekday\"].unique()\n",
    "\n",
    "weekday_arr_train =[]\n",
    "weekday_arr_cv =[]\n",
    "weekday_arr_test =[]\n",
    "\n",
    "for i in weekday_list_train:\n",
    "    arr = np.zeros(2)\n",
    "    arr[0] = df_train[(df_train.weekday == i) & (df_train.clicked == 0)].shape[0]/df_train[(df_train.weekday == i)].shape[0]\n",
    "    arr[1] = df_train[(df_train.weekday == i) & (df_train.clicked == 1)].shape[0]/df_train[(df_train.weekday == i)].shape[0]\n",
    "    weekday_arr_train.append(arr)\n",
    "    \n",
    "for i in weekday_list_cv:\n",
    "    arr = np.zeros(2)\n",
    "    arr[0] = df_cv[(df_cv.weekday == i) & (df_cv.clicked == 0)].shape[0]/df_cv[(df_cv.weekday == i)].shape[0]\n",
    "    arr[1] = df_cv[(df_cv.weekday == i) & (df_cv.clicked == 1)].shape[0]/df_cv[(df_cv.weekday == i)].shape[0]\n",
    "    weekday_arr_cv.append(arr)\n",
    "    \n",
    "for i in weekday_list_test:\n",
    "    arr = np.zeros(2)\n",
    "    arr[0] = df_test[(df_test.weekday == i) & (df_test.clicked == 0)].shape[0]/df_test[(df_test.weekday == i)].shape[0]\n",
    "    arr[1] = df_test[(df_test.weekday == i) & (df_test.clicked == 1)].shape[0]/df_test[(df_test.weekday == i)].shape[0]\n",
    "    weekday_arr_test.append(arr)   "
   ]
  },
  {
   "cell_type": "code",
   "execution_count": 26,
   "metadata": {},
   "outputs": [],
   "source": [
    "# response coding of user_country feature\n",
    "\n",
    "user_country_list_train = df_train[\"user_country\"].unique()\n",
    "user_country_list_cv = df_cv[\"user_country\"].unique()\n",
    "user_country_list_test = df_test[\"user_country\"].unique()\n",
    "\n",
    "user_country_arr_train =[]\n",
    "user_country_arr_cv =[]\n",
    "user_country_arr_test =[]\n",
    "\n",
    "for i in user_country_list_train:\n",
    "    arr = np.zeros(2)\n",
    "    arr[0] = df_train[(df_train.user_country == i) & (df_train.clicked == 0)].shape[0]/df_train[(df_train.user_country == i)].shape[0]\n",
    "    arr[1] = df_train[(df_train.user_country == i) & (df_train.clicked == 1)].shape[0]/df_train[(df_train.user_country == i)].shape[0]\n",
    "    user_country_arr_train.append(arr)\n",
    "    \n",
    "for i in user_country_list_cv:\n",
    "    arr = np.zeros(2)\n",
    "    arr[0] = df_cv[(df_cv.user_country == i) & (df_cv.clicked == 0)].shape[0]/df_cv[(df_cv.user_country == i)].shape[0]\n",
    "    arr[1] = df_cv[(df_cv.user_country == i) & (df_cv.clicked == 1)].shape[0]/df_cv[(df_cv.user_country == i)].shape[0]\n",
    "    user_country_arr_cv.append(arr)\n",
    "    \n",
    "for i in user_country_list_test:\n",
    "    arr = np.zeros(2)\n",
    "    arr[0] = df_test[(df_test.user_country == i) & (df_test.clicked == 0)].shape[0]/df_test[(df_test.user_country == i)].shape[0]\n",
    "    arr[1] = df_test[(df_test.user_country == i) & (df_test.clicked == 1)].shape[0]/df_test[(df_test.user_country == i)].shape[0]\n",
    "    user_country_arr_test.append(arr)   "
   ]
  },
  {
   "cell_type": "code",
   "execution_count": 27,
   "metadata": {},
   "outputs": [],
   "source": [
    "# response coding of user_past_purchases feature\n",
    "\n",
    "user_past_purchases_list_train = df_train[\"user_past_purchases\"].unique()\n",
    "user_past_purchases_list_cv = df_cv[\"user_past_purchases\"].unique()\n",
    "user_past_purchases_list_test = df_test[\"user_past_purchases\"].unique()\n",
    "\n",
    "user_past_purchases_arr_train =[]\n",
    "user_past_purchases_arr_cv =[]\n",
    "user_past_purchases_arr_test =[]\n",
    "\n",
    "for i in user_past_purchases_list_train:\n",
    "    arr = np.zeros(2)\n",
    "    arr[0] = df_train[(df_train.user_past_purchases == i) & (df_train.clicked == 0)].shape[0]/df_train[(df_train.user_past_purchases == i)].shape[0]\n",
    "    arr[1] = df_train[(df_train.user_past_purchases == i) & (df_train.clicked == 1)].shape[0]/df_train[(df_train.user_past_purchases == i)].shape[0]\n",
    "    user_past_purchases_arr_train.append(arr)\n",
    "    \n",
    "for i in user_past_purchases_list_cv:\n",
    "    arr = np.zeros(2)\n",
    "    arr[0] = df_cv[(df_cv.user_past_purchases == i) & (df_cv.clicked == 0)].shape[0]/df_cv[(df_cv.user_past_purchases == i)].shape[0]\n",
    "    arr[1] = df_cv[(df_cv.user_past_purchases == i) & (df_cv.clicked == 1)].shape[0]/df_cv[(df_cv.user_past_purchases == i)].shape[0]\n",
    "    user_past_purchases_arr_cv.append(arr)\n",
    "    \n",
    "for i in user_past_purchases_list_test:\n",
    "    arr = np.zeros(2)\n",
    "    arr[0] = df_test[(df_test.user_past_purchases == i) & (df_test.clicked == 0)].shape[0]/df_test[(df_test.user_past_purchases == i)].shape[0]\n",
    "    arr[1] = df_test[(df_test.user_past_purchases == i) & (df_test.clicked == 1)].shape[0]/df_test[(df_test.user_past_purchases == i)].shape[0]\n",
    "    user_past_purchases_arr_test.append(arr)   "
   ]
  },
  {
   "cell_type": "code",
   "execution_count": 28,
   "metadata": {},
   "outputs": [],
   "source": [
    "# encoding of email_text and email_version feature\n",
    "\n",
    "df_train[\"is_short_email\"] = 0\n",
    "df_train[\"is_personalized\"] = 0\n",
    "\n",
    "df_train.is_short_email[(df_train.email_text == \"short_email\")] = 1\n",
    "df_train.is_short_email[(df_train.email_text == \"long_email\")] = 0\n",
    "\n",
    "df_train.is_personalized[(df_train.email_version == \"personalized\")] = 1\n",
    "df_train.is_personalized[(df_train.email_version == \"generic\")] = 0\n",
    "\n",
    "df_cv[\"is_short_email\"] = 0\n",
    "df_cv[\"is_personalized\"] = 0\n",
    "\n",
    "df_cv.is_short_email[(df_cv.email_text == \"short_email\")] = 1\n",
    "df_cv.is_short_email[(df_cv.email_text == \"long_email\")] = 0\n",
    "\n",
    "df_cv.is_personalized[(df_cv.email_version == \"personalized\")] = 1\n",
    "df_cv.is_personalized[(df_cv.email_version == \"generic\")] = 0\n",
    "\n",
    "df_test[\"is_short_email\"] = 0\n",
    "df_test[\"is_personalized\"] = 0\n",
    "\n",
    "df_test.is_short_email[(df_test.email_text == \"short_email\")] = 1\n",
    "df_test.is_short_email[(df_test.email_text == \"long_email\")] = 0\n",
    "\n",
    "df_test.is_personalized[(df_test.email_version == \"personalized\")] = 1\n",
    "df_test.is_personalized[(df_test.email_version == \"generic\")] = 0"
   ]
  },
  {
   "cell_type": "code",
   "execution_count": 29,
   "metadata": {},
   "outputs": [],
   "source": [
    "# adding response encoded features of hour to the datasets\n",
    "\n",
    "df_train[\"hour_not_clicked\"] = 0\n",
    "df_train[\"hour_clicked\"] = 0\n",
    "\n",
    "for i in hour_list_train:\n",
    "    df_train.hour_not_clicked[(df_train.hour == i)] = hour_arr_train[list(hour_list_train).index(i)][0]\n",
    "    df_train.hour_clicked[(df_train.hour == i)] = hour_arr_train[list(hour_list_train).index(i)][1]\n",
    "    \n",
    "df_cv[\"hour_not_clicked\"] = 0\n",
    "df_cv[\"hour_clicked\"] = 0\n",
    "\n",
    "for i in hour_list_cv:\n",
    "    df_cv.hour_not_clicked[(df_cv.hour == i)] = hour_arr_cv[list(hour_list_cv).index(i)][0]\n",
    "    df_cv.hour_clicked[(df_cv.hour == i)] = hour_arr_cv[list(hour_list_cv).index(i)][1]\n",
    "    \n",
    "df_test[\"hour_not_clicked\"] = 0\n",
    "df_test[\"hour_clicked\"] = 0\n",
    "\n",
    "for i in hour_list_test:\n",
    "    df_test.hour_not_clicked[(df_test.hour == i)] = hour_arr_test[list(hour_list_test).index(i)][0]\n",
    "    df_test.hour_clicked[(df_test.hour == i)] = hour_arr_test[list(hour_list_test).index(i)][1]    "
   ]
  },
  {
   "cell_type": "code",
   "execution_count": 30,
   "metadata": {},
   "outputs": [],
   "source": [
    "# adding response encoded features of weekday to the datasets\n",
    "\n",
    "df_train[\"weekday_not_clicked\"] = 0\n",
    "df_train[\"weekday_clicked\"] = 0\n",
    "\n",
    "for i in weekday_list_train:\n",
    "    df_train.weekday_not_clicked[(df_train.weekday == i)] = weekday_arr_train[list(weekday_list_train).index(i)][0]\n",
    "    df_train.weekday_clicked[(df_train.weekday == i)] = weekday_arr_train[list(weekday_list_train).index(i)][1]\n",
    "    \n",
    "df_cv[\"weekday_not_clicked\"] = 0\n",
    "df_cv[\"weekday_clicked\"] = 0\n",
    "\n",
    "for i in weekday_list_cv:\n",
    "    df_cv.weekday_not_clicked[(df_cv.weekday == i)] = weekday_arr_cv[list(weekday_list_cv).index(i)][0]\n",
    "    df_cv.weekday_clicked[(df_cv.weekday == i)] = weekday_arr_cv[list(weekday_list_cv).index(i)][1]\n",
    "    \n",
    "df_test[\"weekday_not_clicked\"] = 0\n",
    "df_test[\"weekday_clicked\"] = 0\n",
    "\n",
    "for i in weekday_list_test:\n",
    "    df_test.weekday_not_clicked[(df_test.weekday == i)] = weekday_arr_test[list(weekday_list_test).index(i)][0]\n",
    "    df_test.weekday_clicked[(df_test.weekday == i)] = weekday_arr_test[list(weekday_list_test).index(i)][1] "
   ]
  },
  {
   "cell_type": "code",
   "execution_count": 31,
   "metadata": {},
   "outputs": [],
   "source": [
    "# adding response encoded features of user_country to the datasets\n",
    "\n",
    "df_train[\"user_country_not_clicked\"] = 0\n",
    "df_train[\"user_country_clicked\"] = 0\n",
    "\n",
    "for i in user_country_list_train:\n",
    "    df_train.user_country_not_clicked[(df_train.user_country == i)] = user_country_arr_train[list(user_country_list_train).index(i)][0]\n",
    "    df_train.user_country_clicked[(df_train.user_country == i)] = user_country_arr_train[list(user_country_list_train).index(i)][1]\n",
    "    \n",
    "df_cv[\"user_country_not_clicked\"] = 0\n",
    "df_cv[\"user_country_clicked\"] = 0\n",
    "\n",
    "for i in user_country_list_cv:\n",
    "    df_cv.user_country_not_clicked[(df_cv.user_country == i)] = user_country_arr_cv[list(user_country_list_cv).index(i)][0]\n",
    "    df_cv.user_country_clicked[(df_cv.user_country == i)] = user_country_arr_cv[list(user_country_list_cv).index(i)][1]\n",
    "    \n",
    "df_test[\"user_country_not_clicked\"] = 0\n",
    "df_test[\"user_country_clicked\"] = 0\n",
    "\n",
    "for i in user_country_list_test:\n",
    "    df_test.user_country_not_clicked[(df_test.user_country == i)] = user_country_arr_test[list(user_country_list_test).index(i)][0]\n",
    "    df_test.user_country_clicked[(df_test.user_country == i)] = user_country_arr_test[list(user_country_list_test).index(i)][1] "
   ]
  },
  {
   "cell_type": "code",
   "execution_count": 32,
   "metadata": {},
   "outputs": [],
   "source": [
    "# adding response encoded features of user_past_purchases to the datasets\n",
    "\n",
    "df_train[\"user_past_purchases_not_clicked\"] = 0\n",
    "df_train[\"user_past_purchases_clicked\"] = 0\n",
    "\n",
    "for i in user_past_purchases_list_train:\n",
    "    df_train.user_past_purchases_not_clicked[(df_train.user_past_purchases == i)] = user_past_purchases_arr_train[list(user_past_purchases_list_train).index(i)][0]\n",
    "    df_train.user_past_purchases_clicked[(df_train.user_past_purchases == i)] = user_past_purchases_arr_train[list(user_past_purchases_list_train).index(i)][1]\n",
    "    \n",
    "df_cv[\"user_past_purchases_not_clicked\"] = 0\n",
    "df_cv[\"user_past_purchases_clicked\"] = 0\n",
    "\n",
    "for i in user_past_purchases_list_cv:\n",
    "    df_cv.user_past_purchases_not_clicked[(df_cv.user_past_purchases == i)] = user_past_purchases_arr_cv[list(user_past_purchases_list_cv).index(i)][0]\n",
    "    df_cv.user_past_purchases_clicked[(df_cv.user_past_purchases == i)] = user_past_purchases_arr_cv[list(user_past_purchases_list_cv).index(i)][1]\n",
    "    \n",
    "df_test[\"user_past_purchases_not_clicked\"] = 0\n",
    "df_test[\"user_past_purchases_clicked\"] = 0\n",
    "\n",
    "for i in user_past_purchases_list_test:\n",
    "    df_test.user_past_purchases_not_clicked[(df_test.user_past_purchases == i)] = user_past_purchases_arr_test[list(user_past_purchases_list_test).index(i)][0]\n",
    "    df_test.user_past_purchases_clicked[(df_test.user_past_purchases == i)] = user_past_purchases_arr_test[list(user_past_purchases_list_test).index(i)][1] "
   ]
  },
  {
   "cell_type": "code",
   "execution_count": 33,
   "metadata": {},
   "outputs": [
    {
     "data": {
      "text/html": [
       "<div>\n",
       "<style scoped>\n",
       "    .dataframe tbody tr th:only-of-type {\n",
       "        vertical-align: middle;\n",
       "    }\n",
       "\n",
       "    .dataframe tbody tr th {\n",
       "        vertical-align: top;\n",
       "    }\n",
       "\n",
       "    .dataframe thead th {\n",
       "        text-align: right;\n",
       "    }\n",
       "</style>\n",
       "<table border=\"1\" class=\"dataframe\">\n",
       "  <thead>\n",
       "    <tr style=\"text-align: right;\">\n",
       "      <th></th>\n",
       "      <th>clicked</th>\n",
       "      <th>is_short_email</th>\n",
       "      <th>is_personalized</th>\n",
       "      <th>hour_not_clicked</th>\n",
       "      <th>hour_clicked</th>\n",
       "      <th>weekday_not_clicked</th>\n",
       "      <th>weekday_clicked</th>\n",
       "      <th>user_country_not_clicked</th>\n",
       "      <th>user_country_clicked</th>\n",
       "      <th>user_past_purchases_not_clicked</th>\n",
       "      <th>user_past_purchases_clicked</th>\n",
       "    </tr>\n",
       "  </thead>\n",
       "  <tbody>\n",
       "    <tr>\n",
       "      <th>0</th>\n",
       "      <td>0</td>\n",
       "      <td>1</td>\n",
       "      <td>0</td>\n",
       "      <td>0.984211</td>\n",
       "      <td>0.015789</td>\n",
       "      <td>0.976137</td>\n",
       "      <td>0.023863</td>\n",
       "      <td>0.975481</td>\n",
       "      <td>0.024519</td>\n",
       "      <td>0.985030</td>\n",
       "      <td>0.014970</td>\n",
       "    </tr>\n",
       "    <tr>\n",
       "      <th>1</th>\n",
       "      <td>0</td>\n",
       "      <td>1</td>\n",
       "      <td>0</td>\n",
       "      <td>0.975104</td>\n",
       "      <td>0.024896</td>\n",
       "      <td>0.970685</td>\n",
       "      <td>0.029315</td>\n",
       "      <td>0.975118</td>\n",
       "      <td>0.024882</td>\n",
       "      <td>0.999550</td>\n",
       "      <td>0.000450</td>\n",
       "    </tr>\n",
       "    <tr>\n",
       "      <th>2</th>\n",
       "      <td>0</td>\n",
       "      <td>0</td>\n",
       "      <td>1</td>\n",
       "      <td>0.981081</td>\n",
       "      <td>0.018919</td>\n",
       "      <td>0.984064</td>\n",
       "      <td>0.015936</td>\n",
       "      <td>0.975118</td>\n",
       "      <td>0.024882</td>\n",
       "      <td>0.988082</td>\n",
       "      <td>0.011918</td>\n",
       "    </tr>\n",
       "    <tr>\n",
       "      <th>3</th>\n",
       "      <td>0</td>\n",
       "      <td>1</td>\n",
       "      <td>1</td>\n",
       "      <td>0.982244</td>\n",
       "      <td>0.017756</td>\n",
       "      <td>0.970685</td>\n",
       "      <td>0.029315</td>\n",
       "      <td>0.991110</td>\n",
       "      <td>0.008890</td>\n",
       "      <td>0.999550</td>\n",
       "      <td>0.000450</td>\n",
       "    </tr>\n",
       "    <tr>\n",
       "      <th>4</th>\n",
       "      <td>0</td>\n",
       "      <td>0</td>\n",
       "      <td>0</td>\n",
       "      <td>0.981081</td>\n",
       "      <td>0.018919</td>\n",
       "      <td>0.970685</td>\n",
       "      <td>0.029315</td>\n",
       "      <td>0.975481</td>\n",
       "      <td>0.024519</td>\n",
       "      <td>0.999550</td>\n",
       "      <td>0.000450</td>\n",
       "    </tr>\n",
       "  </tbody>\n",
       "</table>\n",
       "</div>"
      ],
      "text/plain": [
       "   clicked  is_short_email  is_personalized  hour_not_clicked  hour_clicked  \\\n",
       "0        0               1                0          0.984211      0.015789   \n",
       "1        0               1                0          0.975104      0.024896   \n",
       "2        0               0                1          0.981081      0.018919   \n",
       "3        0               1                1          0.982244      0.017756   \n",
       "4        0               0                0          0.981081      0.018919   \n",
       "\n",
       "   weekday_not_clicked  weekday_clicked  user_country_not_clicked  \\\n",
       "0             0.976137         0.023863                  0.975481   \n",
       "1             0.970685         0.029315                  0.975118   \n",
       "2             0.984064         0.015936                  0.975118   \n",
       "3             0.970685         0.029315                  0.991110   \n",
       "4             0.970685         0.029315                  0.975481   \n",
       "\n",
       "   user_country_clicked  user_past_purchases_not_clicked  \\\n",
       "0              0.024519                         0.985030   \n",
       "1              0.024882                         0.999550   \n",
       "2              0.024882                         0.988082   \n",
       "3              0.008890                         0.999550   \n",
       "4              0.024519                         0.999550   \n",
       "\n",
       "   user_past_purchases_clicked  \n",
       "0                     0.014970  \n",
       "1                     0.000450  \n",
       "2                     0.011918  \n",
       "3                     0.000450  \n",
       "4                     0.000450  "
      ]
     },
     "execution_count": 33,
     "metadata": {},
     "output_type": "execute_result"
    }
   ],
   "source": [
    "df_train = df_train.drop(columns = [\"email_id\",\"email_text\",\"email_version\",\"hour\",\"weekday\",\"user_country\",\"user_past_purchases\"])\n",
    "df_cv = df_cv.drop(columns = [\"email_id\",\"email_text\",\"email_version\",\"hour\",\"weekday\",\"user_country\",\"user_past_purchases\"])\n",
    "df_test = df_test.drop(columns = [\"email_id\",\"email_text\",\"email_version\",\"hour\",\"weekday\",\"user_country\",\"user_past_purchases\"])\n",
    "df_train.head()"
   ]
  },
  {
   "cell_type": "code",
   "execution_count": 34,
   "metadata": {},
   "outputs": [
    {
     "data": {
      "text/html": [
       "<div>\n",
       "<style scoped>\n",
       "    .dataframe tbody tr th:only-of-type {\n",
       "        vertical-align: middle;\n",
       "    }\n",
       "\n",
       "    .dataframe tbody tr th {\n",
       "        vertical-align: top;\n",
       "    }\n",
       "\n",
       "    .dataframe thead th {\n",
       "        text-align: right;\n",
       "    }\n",
       "</style>\n",
       "<table border=\"1\" class=\"dataframe\">\n",
       "  <thead>\n",
       "    <tr style=\"text-align: right;\">\n",
       "      <th></th>\n",
       "      <th>clicked</th>\n",
       "      <th>is_short_email</th>\n",
       "      <th>is_personalized</th>\n",
       "      <th>hour_not_clicked</th>\n",
       "      <th>hour_clicked</th>\n",
       "      <th>weekday_not_clicked</th>\n",
       "      <th>weekday_clicked</th>\n",
       "      <th>user_country_not_clicked</th>\n",
       "      <th>user_country_clicked</th>\n",
       "      <th>user_past_purchases_not_clicked</th>\n",
       "      <th>user_past_purchases_clicked</th>\n",
       "    </tr>\n",
       "  </thead>\n",
       "  <tbody>\n",
       "    <tr>\n",
       "      <th>0</th>\n",
       "      <td>0</td>\n",
       "      <td>1</td>\n",
       "      <td>1</td>\n",
       "      <td>0.990088</td>\n",
       "      <td>0.009912</td>\n",
       "      <td>0.973973</td>\n",
       "      <td>0.026027</td>\n",
       "      <td>0.974950</td>\n",
       "      <td>0.025050</td>\n",
       "      <td>0.979679</td>\n",
       "      <td>0.020321</td>\n",
       "    </tr>\n",
       "    <tr>\n",
       "      <th>1</th>\n",
       "      <td>0</td>\n",
       "      <td>1</td>\n",
       "      <td>0</td>\n",
       "      <td>0.969535</td>\n",
       "      <td>0.030465</td>\n",
       "      <td>0.981013</td>\n",
       "      <td>0.018987</td>\n",
       "      <td>0.975829</td>\n",
       "      <td>0.024171</td>\n",
       "      <td>0.990863</td>\n",
       "      <td>0.009137</td>\n",
       "    </tr>\n",
       "    <tr>\n",
       "      <th>2</th>\n",
       "      <td>0</td>\n",
       "      <td>1</td>\n",
       "      <td>1</td>\n",
       "      <td>0.977612</td>\n",
       "      <td>0.022388</td>\n",
       "      <td>0.973973</td>\n",
       "      <td>0.026027</td>\n",
       "      <td>0.974950</td>\n",
       "      <td>0.025050</td>\n",
       "      <td>0.999113</td>\n",
       "      <td>0.000887</td>\n",
       "    </tr>\n",
       "    <tr>\n",
       "      <th>3</th>\n",
       "      <td>0</td>\n",
       "      <td>1</td>\n",
       "      <td>0</td>\n",
       "      <td>0.969535</td>\n",
       "      <td>0.030465</td>\n",
       "      <td>0.973973</td>\n",
       "      <td>0.026027</td>\n",
       "      <td>0.974950</td>\n",
       "      <td>0.025050</td>\n",
       "      <td>0.979679</td>\n",
       "      <td>0.020321</td>\n",
       "    </tr>\n",
       "    <tr>\n",
       "      <th>4</th>\n",
       "      <td>0</td>\n",
       "      <td>1</td>\n",
       "      <td>0</td>\n",
       "      <td>0.976281</td>\n",
       "      <td>0.023719</td>\n",
       "      <td>0.987130</td>\n",
       "      <td>0.012870</td>\n",
       "      <td>0.974950</td>\n",
       "      <td>0.025050</td>\n",
       "      <td>0.970263</td>\n",
       "      <td>0.029737</td>\n",
       "    </tr>\n",
       "  </tbody>\n",
       "</table>\n",
       "</div>"
      ],
      "text/plain": [
       "   clicked  is_short_email  is_personalized  hour_not_clicked  hour_clicked  \\\n",
       "0        0               1                1          0.990088      0.009912   \n",
       "1        0               1                0          0.969535      0.030465   \n",
       "2        0               1                1          0.977612      0.022388   \n",
       "3        0               1                0          0.969535      0.030465   \n",
       "4        0               1                0          0.976281      0.023719   \n",
       "\n",
       "   weekday_not_clicked  weekday_clicked  user_country_not_clicked  \\\n",
       "0             0.973973         0.026027                  0.974950   \n",
       "1             0.981013         0.018987                  0.975829   \n",
       "2             0.973973         0.026027                  0.974950   \n",
       "3             0.973973         0.026027                  0.974950   \n",
       "4             0.987130         0.012870                  0.974950   \n",
       "\n",
       "   user_country_clicked  user_past_purchases_not_clicked  \\\n",
       "0              0.025050                         0.979679   \n",
       "1              0.024171                         0.990863   \n",
       "2              0.025050                         0.999113   \n",
       "3              0.025050                         0.979679   \n",
       "4              0.025050                         0.970263   \n",
       "\n",
       "   user_past_purchases_clicked  \n",
       "0                     0.020321  \n",
       "1                     0.009137  \n",
       "2                     0.000887  \n",
       "3                     0.020321  \n",
       "4                     0.029737  "
      ]
     },
     "execution_count": 34,
     "metadata": {},
     "output_type": "execute_result"
    }
   ],
   "source": [
    "df_cv.head()"
   ]
  },
  {
   "cell_type": "code",
   "execution_count": 35,
   "metadata": {},
   "outputs": [
    {
     "data": {
      "text/html": [
       "<div>\n",
       "<style scoped>\n",
       "    .dataframe tbody tr th:only-of-type {\n",
       "        vertical-align: middle;\n",
       "    }\n",
       "\n",
       "    .dataframe tbody tr th {\n",
       "        vertical-align: top;\n",
       "    }\n",
       "\n",
       "    .dataframe thead th {\n",
       "        text-align: right;\n",
       "    }\n",
       "</style>\n",
       "<table border=\"1\" class=\"dataframe\">\n",
       "  <thead>\n",
       "    <tr style=\"text-align: right;\">\n",
       "      <th></th>\n",
       "      <th>clicked</th>\n",
       "      <th>is_short_email</th>\n",
       "      <th>is_personalized</th>\n",
       "      <th>hour_not_clicked</th>\n",
       "      <th>hour_clicked</th>\n",
       "      <th>weekday_not_clicked</th>\n",
       "      <th>weekday_clicked</th>\n",
       "      <th>user_country_not_clicked</th>\n",
       "      <th>user_country_clicked</th>\n",
       "      <th>user_past_purchases_not_clicked</th>\n",
       "      <th>user_past_purchases_clicked</th>\n",
       "    </tr>\n",
       "  </thead>\n",
       "  <tbody>\n",
       "    <tr>\n",
       "      <th>0</th>\n",
       "      <td>0</td>\n",
       "      <td>1</td>\n",
       "      <td>0</td>\n",
       "      <td>0.984835</td>\n",
       "      <td>0.015165</td>\n",
       "      <td>0.984626</td>\n",
       "      <td>0.015374</td>\n",
       "      <td>0.9767</td>\n",
       "      <td>0.0233</td>\n",
       "      <td>0.966535</td>\n",
       "      <td>0.033465</td>\n",
       "    </tr>\n",
       "    <tr>\n",
       "      <th>1</th>\n",
       "      <td>0</td>\n",
       "      <td>1</td>\n",
       "      <td>0</td>\n",
       "      <td>0.981132</td>\n",
       "      <td>0.018868</td>\n",
       "      <td>0.980892</td>\n",
       "      <td>0.019108</td>\n",
       "      <td>0.9767</td>\n",
       "      <td>0.0233</td>\n",
       "      <td>0.979524</td>\n",
       "      <td>0.020476</td>\n",
       "    </tr>\n",
       "    <tr>\n",
       "      <th>2</th>\n",
       "      <td>0</td>\n",
       "      <td>0</td>\n",
       "      <td>0</td>\n",
       "      <td>0.981919</td>\n",
       "      <td>0.018081</td>\n",
       "      <td>0.984626</td>\n",
       "      <td>0.015374</td>\n",
       "      <td>0.9767</td>\n",
       "      <td>0.0233</td>\n",
       "      <td>0.999635</td>\n",
       "      <td>0.000365</td>\n",
       "    </tr>\n",
       "    <tr>\n",
       "      <th>3</th>\n",
       "      <td>0</td>\n",
       "      <td>0</td>\n",
       "      <td>0</td>\n",
       "      <td>0.983664</td>\n",
       "      <td>0.016336</td>\n",
       "      <td>0.976992</td>\n",
       "      <td>0.023008</td>\n",
       "      <td>0.9767</td>\n",
       "      <td>0.0233</td>\n",
       "      <td>0.966535</td>\n",
       "      <td>0.033465</td>\n",
       "    </tr>\n",
       "    <tr>\n",
       "      <th>4</th>\n",
       "      <td>0</td>\n",
       "      <td>0</td>\n",
       "      <td>0</td>\n",
       "      <td>0.980258</td>\n",
       "      <td>0.019742</td>\n",
       "      <td>0.975515</td>\n",
       "      <td>0.024485</td>\n",
       "      <td>0.9767</td>\n",
       "      <td>0.0233</td>\n",
       "      <td>0.981840</td>\n",
       "      <td>0.018160</td>\n",
       "    </tr>\n",
       "  </tbody>\n",
       "</table>\n",
       "</div>"
      ],
      "text/plain": [
       "   clicked  is_short_email  is_personalized  hour_not_clicked  hour_clicked  \\\n",
       "0        0               1                0          0.984835      0.015165   \n",
       "1        0               1                0          0.981132      0.018868   \n",
       "2        0               0                0          0.981919      0.018081   \n",
       "3        0               0                0          0.983664      0.016336   \n",
       "4        0               0                0          0.980258      0.019742   \n",
       "\n",
       "   weekday_not_clicked  weekday_clicked  user_country_not_clicked  \\\n",
       "0             0.984626         0.015374                    0.9767   \n",
       "1             0.980892         0.019108                    0.9767   \n",
       "2             0.984626         0.015374                    0.9767   \n",
       "3             0.976992         0.023008                    0.9767   \n",
       "4             0.975515         0.024485                    0.9767   \n",
       "\n",
       "   user_country_clicked  user_past_purchases_not_clicked  \\\n",
       "0                0.0233                         0.966535   \n",
       "1                0.0233                         0.979524   \n",
       "2                0.0233                         0.999635   \n",
       "3                0.0233                         0.966535   \n",
       "4                0.0233                         0.981840   \n",
       "\n",
       "   user_past_purchases_clicked  \n",
       "0                     0.033465  \n",
       "1                     0.020476  \n",
       "2                     0.000365  \n",
       "3                     0.033465  \n",
       "4                     0.018160  "
      ]
     },
     "execution_count": 35,
     "metadata": {},
     "output_type": "execute_result"
    }
   ],
   "source": [
    "df_test.head()"
   ]
  },
  {
   "cell_type": "code",
   "execution_count": 36,
   "metadata": {},
   "outputs": [],
   "source": [
    "y_train = df_train[\"clicked\"].values\n",
    "y_cv = df_cv[\"clicked\"].values\n",
    "y_test = df_test[\"clicked\"].values"
   ]
  },
  {
   "cell_type": "code",
   "execution_count": 37,
   "metadata": {},
   "outputs": [],
   "source": [
    "x_train = df_train.drop(columns = [\"clicked\"]).values\n",
    "x_cv = df_cv.drop(columns = [\"clicked\"]).values\n",
    "x_test = df_test.drop(columns = [\"clicked\"]).values"
   ]
  },
  {
   "cell_type": "markdown",
   "metadata": {},
   "source": [
    "# Logistic Regression"
   ]
  },
  {
   "cell_type": "code",
   "execution_count": 38,
   "metadata": {},
   "outputs": [
    {
     "name": "stdout",
     "output_type": "stream",
     "text": [
      "For values of alpha =  1e-05 The log loss is: 0.10065250292944532\n",
      "For values of alpha =  0.0001 The log loss is: 0.10062166045973338\n",
      "For values of alpha =  0.001 The log loss is: 0.10053333868242093\n",
      "For values of alpha =  0.01 The log loss is: 0.09976116957812815\n",
      "For values of alpha =  0.1 The log loss is: 0.09704982373019397\n",
      "For values of alpha =  1 The log loss is: 0.09846366105437714\n",
      "For values of alpha =  10 The log loss is: 0.0975414258549821\n",
      "For values of alpha =  100 The log loss is: 0.09711739180176353\n",
      "For values of alpha =  1000 The log loss is: 0.09706273973501049\n",
      "For values of alpha =  10000 The log loss is: 0.09705711766708058\n",
      "For values of alpha =  100000 The log loss is: 0.09705655419547593\n",
      "For values of alpha =  1000000 The log loss is: 0.09705649783172962\n",
      "For values of alpha =  10000000 The log loss is: 0.09705649219539364\n",
      "For values of alpha =  100000000 The log loss is: 0.09705649163174403\n",
      "For values of alpha =  1000000000 The log loss is: 0.09705649157543556\n"
     ]
    }
   ],
   "source": [
    "alpha = [10 ** x for x in range(-5, 10)]\n",
    "\n",
    "errors = []\n",
    "\n",
    "for i in alpha:\n",
    "    lr = LogisticRegression(penalty='l2',C=i,class_weight='balanced')\n",
    "    lr.fit(x_train,y_train)\n",
    "    \n",
    "    clf = CalibratedClassifierCV(lr, method=\"sigmoid\")\n",
    "    clf.fit(x_train, y_train)\n",
    "    \n",
    "    y_pred_cv = clf.predict_proba(x_cv)\n",
    "    \n",
    "    errors.append(log_loss(y_cv, y_pred_cv, labels=lr.classes_, eps=1e-15))\n",
    "    \n",
    "    print('For values of alpha = ', i, \"The log loss is:\",log_loss(y_cv, y_pred_cv, labels=lr.classes_, eps=1e-15))"
   ]
  },
  {
   "cell_type": "code",
   "execution_count": 39,
   "metadata": {},
   "outputs": [
    {
     "name": "stdout",
     "output_type": "stream",
     "text": [
      "The cross validation loss: 0.09705711766708058\n",
      "The test loss: 0.09423583520544329\n"
     ]
    }
   ],
   "source": [
    "lr = LogisticRegression(penalty = 'l2',C = 10000,class_weight = 'balanced')\n",
    "lr.fit(x_train,y_train)\n",
    "\n",
    "clf = CalibratedClassifierCV(lr, method = \"sigmoid\")\n",
    "clf.fit(x_train, y_train)\n",
    "\n",
    "y_pred_cv = clf.predict_proba(x_cv)\n",
    "\n",
    "y_pred_test_prob = clf.predict_proba(x_test)\n",
    "\n",
    "y_pred_test = lr.predict(x_test)\n",
    "\n",
    "print(\"The cross validation loss:\",log_loss(y_cv, y_pred_cv, labels = lr.classes_, eps=1e-15))\n",
    "print(\"The test loss:\",log_loss(y_test, y_pred_test_prob, labels = lr.classes_, eps=1e-15))"
   ]
  },
  {
   "cell_type": "code",
   "execution_count": 40,
   "metadata": {
    "scrolled": true
   },
   "outputs": [
    {
     "name": "stdout",
     "output_type": "stream",
     "text": [
      "              precision    recall  f1-score   support\n",
      "\n",
      "           0       0.99      0.77      0.87     19588\n",
      "           1       0.05      0.53      0.09       412\n",
      "\n",
      "   micro avg       0.77      0.77      0.77     20000\n",
      "   macro avg       0.52      0.65      0.48     20000\n",
      "weighted avg       0.97      0.77      0.85     20000\n",
      "\n"
     ]
    }
   ],
   "source": [
    "print(classification_report(y_test, y_pred_test))"
   ]
  },
  {
   "cell_type": "code",
   "execution_count": 41,
   "metadata": {},
   "outputs": [
    {
     "name": "stdout",
     "output_type": "stream",
     "text": [
      "0.7694\n"
     ]
    }
   ],
   "source": [
    "print(accuracy_score(y_test, y_pred_test))"
   ]
  },
  {
   "cell_type": "markdown",
   "metadata": {},
   "source": [
    "# Linear SVM"
   ]
  },
  {
   "cell_type": "code",
   "execution_count": 42,
   "metadata": {},
   "outputs": [
    {
     "name": "stdout",
     "output_type": "stream",
     "text": [
      "For values of alpha =  1e-05 The log loss is: 0.09942265051128886\n",
      "For values of alpha =  0.0001 The log loss is: 0.0984326081780425\n",
      "For values of alpha =  0.001 The log loss is: 0.10214869898253899\n",
      "For values of alpha =  0.01 The log loss is: 0.1021486989825389\n",
      "For values of alpha =  0.1 The log loss is: 0.1021486989825389\n",
      "For values of alpha =  1 The log loss is: 0.10214869898254474\n",
      "For values of alpha =  10 The log loss is: 0.10214869898253888\n",
      "For values of alpha =  100 The log loss is: 0.10214869898253415\n",
      "For values of alpha =  1000 The log loss is: 0.10214869898253309\n",
      "For values of alpha =  10000 The log loss is: 0.102148698982533\n"
     ]
    }
   ],
   "source": [
    "alpha = [10 ** x for x in range(-5, 5)]\n",
    "\n",
    "errors = []\n",
    "\n",
    "for i in alpha:\n",
    "    lrsvm = SGDClassifier(alpha=i, penalty='l1', loss='hinge', random_state=42)\n",
    "    lrsvm.fit(x_train, y_train)\n",
    "    \n",
    "    cc = CalibratedClassifierCV(lrsvm, method=\"sigmoid\")\n",
    "    cc.fit(x_train, y_train)\n",
    "    \n",
    "    y_pred_cv = cc.predict_proba(x_cv)\n",
    "    \n",
    "    errors.append(log_loss(y_cv, y_pred_cv, labels = lrsvm.classes_, eps=1e-15))\n",
    "    \n",
    "    print('For values of alpha = ', i, \"The log loss is:\",log_loss(y_cv, y_pred_cv, labels = lrsvm.classes_, eps=1e-15))"
   ]
  },
  {
   "cell_type": "code",
   "execution_count": 43,
   "metadata": {},
   "outputs": [
    {
     "name": "stdout",
     "output_type": "stream",
     "text": [
      "log loss on cross validation data: 0.0984326081780425\n",
      "log loss on test data: 0.09605516957667874\n"
     ]
    }
   ],
   "source": [
    "lrsvm = SGDClassifier(alpha=0.0001, penalty='l1', loss='hinge', random_state=42)\n",
    "lrsvm.fit(x_train, y_train)\n",
    "\n",
    "cc = CalibratedClassifierCV(lrsvm, method=\"sigmoid\")\n",
    "cc.fit(x_train, y_train)\n",
    "\n",
    "y_pred_cv = cc.predict_proba(x_cv)\n",
    "\n",
    "y_pred_test_prob = cc.predict_proba(x_test)\n",
    "\n",
    "y_pred_test = lrsvm.predict(x_test)\n",
    "\n",
    "print(\"log loss on cross validation data:\",log_loss(y_cv, y_pred_cv, labels = lrsvm.classes_, eps=1e-15))\n",
    "\n",
    "print(\"log loss on test data:\",log_loss(y_test, y_pred_test_prob, labels = lrsvm.classes_, eps=1e-15))"
   ]
  },
  {
   "cell_type": "code",
   "execution_count": 44,
   "metadata": {
    "scrolled": true
   },
   "outputs": [
    {
     "name": "stderr",
     "output_type": "stream",
     "text": [
      "C:\\Users\\prane\\Anaconda3\\lib\\site-packages\\sklearn\\metrics\\classification.py:1143: UndefinedMetricWarning: Precision and F-score are ill-defined and being set to 0.0 in labels with no predicted samples.\n",
      "  'precision', 'predicted', average, warn_for)\n",
      "C:\\Users\\prane\\Anaconda3\\lib\\site-packages\\sklearn\\metrics\\classification.py:1143: UndefinedMetricWarning: Precision and F-score are ill-defined and being set to 0.0 in labels with no predicted samples.\n",
      "  'precision', 'predicted', average, warn_for)\n",
      "C:\\Users\\prane\\Anaconda3\\lib\\site-packages\\sklearn\\metrics\\classification.py:1143: UndefinedMetricWarning: Precision and F-score are ill-defined and being set to 0.0 in labels with no predicted samples.\n",
      "  'precision', 'predicted', average, warn_for)\n"
     ]
    },
    {
     "name": "stdout",
     "output_type": "stream",
     "text": [
      "              precision    recall  f1-score   support\n",
      "\n",
      "           0       0.98      1.00      0.99     19588\n",
      "           1       0.00      0.00      0.00       412\n",
      "\n",
      "   micro avg       0.98      0.98      0.98     20000\n",
      "   macro avg       0.49      0.50      0.49     20000\n",
      "weighted avg       0.96      0.98      0.97     20000\n",
      "\n"
     ]
    }
   ],
   "source": [
    "print(classification_report(y_test, y_pred_test))"
   ]
  },
  {
   "cell_type": "code",
   "execution_count": 45,
   "metadata": {},
   "outputs": [
    {
     "name": "stdout",
     "output_type": "stream",
     "text": [
      "0.9794\n"
     ]
    }
   ],
   "source": [
    "print(accuracy_score(y_test, y_pred_test))"
   ]
  },
  {
   "cell_type": "markdown",
   "metadata": {},
   "source": [
    "# KNN"
   ]
  },
  {
   "cell_type": "code",
   "execution_count": 46,
   "metadata": {},
   "outputs": [
    {
     "name": "stdout",
     "output_type": "stream",
     "text": [
      "For values of alpha =  1 The log loss is: 0.10152794344015299\n",
      "For values of alpha =  3 The log loss is: 0.10128993727231782\n",
      "For values of alpha =  5 The log loss is: 0.10057644664546792\n",
      "For values of alpha =  7 The log loss is: 0.10014292272641506\n",
      "For values of alpha =  9 The log loss is: 0.09995968166415775\n",
      "For values of alpha =  11 The log loss is: 0.09968525190843736\n",
      "For values of alpha =  13 The log loss is: 0.09936879924084695\n"
     ]
    }
   ],
   "source": [
    "alpha = [x for x in range(1, 15, 2)]\n",
    "\n",
    "errors = []\n",
    "\n",
    "for i in alpha:\n",
    "    \n",
    "    knn = KNeighborsClassifier(n_neighbors=i)\n",
    "    knn.fit(x_train, y_train)\n",
    "    \n",
    "    clf = CalibratedClassifierCV(knn, method=\"sigmoid\")\n",
    "    clf.fit(x_train, y_train)\n",
    "    \n",
    "    y_pred_cv = clf.predict_proba(x_cv)\n",
    "    \n",
    "    errors.append(log_loss(y_cv, y_pred_cv, labels=knn.classes_, eps=1e-15))\n",
    "    \n",
    "    print('For values of alpha = ', i, \"The log loss is:\",log_loss(y_cv, y_pred_cv, labels=knn.classes_, eps=1e-15))"
   ]
  },
  {
   "cell_type": "code",
   "execution_count": 47,
   "metadata": {},
   "outputs": [
    {
     "name": "stdout",
     "output_type": "stream",
     "text": [
      "The cross validation loss: 0.09995968166415775\n",
      "The test loss: 0.09910464132969275\n"
     ]
    }
   ],
   "source": [
    "knn = KNeighborsClassifier(n_neighbors = 9)\n",
    "knn.fit(x_train, y_train)\n",
    "\n",
    "clf = CalibratedClassifierCV(knn, method=\"sigmoid\")\n",
    "clf.fit(x_train, y_train)\n",
    "\n",
    "y_pred_cv = clf.predict_proba(x_cv)\n",
    "\n",
    "y_pred_test_prob = clf.predict_proba(x_test)\n",
    "\n",
    "y_pred_test = knn.predict(x_test)\n",
    "\n",
    "print('The cross validation loss:',log_loss(y_cv, y_pred_cv, labels=knn.classes_, eps=1e-15))\n",
    "print('The test loss:',log_loss(y_test, y_pred_test_prob, labels=knn.classes_, eps=1e-15))"
   ]
  },
  {
   "cell_type": "code",
   "execution_count": 48,
   "metadata": {},
   "outputs": [
    {
     "name": "stderr",
     "output_type": "stream",
     "text": [
      "C:\\Users\\prane\\Anaconda3\\lib\\site-packages\\sklearn\\metrics\\classification.py:1143: UndefinedMetricWarning: Precision and F-score are ill-defined and being set to 0.0 in labels with no predicted samples.\n",
      "  'precision', 'predicted', average, warn_for)\n",
      "C:\\Users\\prane\\Anaconda3\\lib\\site-packages\\sklearn\\metrics\\classification.py:1143: UndefinedMetricWarning: Precision and F-score are ill-defined and being set to 0.0 in labels with no predicted samples.\n",
      "  'precision', 'predicted', average, warn_for)\n",
      "C:\\Users\\prane\\Anaconda3\\lib\\site-packages\\sklearn\\metrics\\classification.py:1143: UndefinedMetricWarning: Precision and F-score are ill-defined and being set to 0.0 in labels with no predicted samples.\n",
      "  'precision', 'predicted', average, warn_for)\n"
     ]
    },
    {
     "name": "stdout",
     "output_type": "stream",
     "text": [
      "              precision    recall  f1-score   support\n",
      "\n",
      "           0       0.98      1.00      0.99     19588\n",
      "           1       0.00      0.00      0.00       412\n",
      "\n",
      "   micro avg       0.98      0.98      0.98     20000\n",
      "   macro avg       0.49      0.50      0.49     20000\n",
      "weighted avg       0.96      0.98      0.97     20000\n",
      "\n"
     ]
    }
   ],
   "source": [
    "print(classification_report(y_test, y_pred_test))"
   ]
  },
  {
   "cell_type": "code",
   "execution_count": 49,
   "metadata": {},
   "outputs": [
    {
     "name": "stdout",
     "output_type": "stream",
     "text": [
      "0.9794\n"
     ]
    }
   ],
   "source": [
    "print(accuracy_score(y_test, y_pred_test))"
   ]
  },
  {
   "cell_type": "markdown",
   "metadata": {},
   "source": [
    "# random forrest"
   ]
  },
  {
   "cell_type": "code",
   "execution_count": 50,
   "metadata": {},
   "outputs": [
    {
     "name": "stderr",
     "output_type": "stream",
     "text": [
      "\r",
      "  0%|                                                                                            | 0/6 [00:00<?, ?it/s]"
     ]
    },
    {
     "name": "stdout",
     "output_type": "stream",
     "text": [
      "For values of alpha =  10 The log loss is: 0.10109981730152544\n"
     ]
    },
    {
     "name": "stderr",
     "output_type": "stream",
     "text": [
      "\r",
      " 17%|██████████████                                                                      | 1/6 [00:01<00:07,  1.47s/it]"
     ]
    },
    {
     "name": "stdout",
     "output_type": "stream",
     "text": [
      "For values of alpha =  50 The log loss is: 0.10090446841610191\n"
     ]
    },
    {
     "name": "stderr",
     "output_type": "stream",
     "text": [
      "\r",
      " 33%|████████████████████████████                                                        | 2/6 [00:05<00:09,  2.26s/it]"
     ]
    },
    {
     "name": "stdout",
     "output_type": "stream",
     "text": [
      "For values of alpha =  100 The log loss is: 0.10090352022786055\n"
     ]
    },
    {
     "name": "stderr",
     "output_type": "stream",
     "text": [
      "\r",
      " 50%|██████████████████████████████████████████                                          | 3/6 [00:11<00:09,  3.33s/it]"
     ]
    },
    {
     "name": "stdout",
     "output_type": "stream",
     "text": [
      "For values of alpha =  500 The log loss is: 0.10089592914089433\n"
     ]
    },
    {
     "name": "stderr",
     "output_type": "stream",
     "text": [
      "\r",
      " 67%|████████████████████████████████████████████████████████                            | 4/6 [00:37<00:20, 10.02s/it]"
     ]
    },
    {
     "name": "stdout",
     "output_type": "stream",
     "text": [
      "For values of alpha =  1000 The log loss is: 0.10088724121671039\n"
     ]
    },
    {
     "name": "stderr",
     "output_type": "stream",
     "text": [
      "\r",
      " 83%|██████████████████████████████████████████████████████████████████████              | 5/6 [01:34<00:24, 24.24s/it]"
     ]
    },
    {
     "name": "stdout",
     "output_type": "stream",
     "text": [
      "For values of alpha =  2000 The log loss is: 0.10089347755317489\n"
     ]
    },
    {
     "name": "stderr",
     "output_type": "stream",
     "text": [
      "100%|████████████████████████████████████████████████████████████████████████████████████| 6/6 [04:16<00:00, 65.63s/it]\n"
     ]
    }
   ],
   "source": [
    "alpha=[10,50,100,500,1000,2000]\n",
    "\n",
    "errors = []\n",
    "\n",
    "for i in tqdm(alpha):\n",
    "    rc = RandomForestClassifier(n_estimators=i,random_state=0,n_jobs=-1)\n",
    "    rc.fit(x_train,y_train)\n",
    "    \n",
    "    clf = CalibratedClassifierCV(rc, method=\"sigmoid\")\n",
    "    clf.fit(x_train, y_train)\n",
    "    \n",
    "    y_pred_cv = clf.predict_proba(x_cv)\n",
    "    \n",
    "    errors.append(log_loss(y_cv, y_pred_cv, labels=rc.classes_, eps=1e-15))\n",
    "    \n",
    "    print('For values of alpha = ', i, \"The log loss is:\",log_loss(y_cv, y_pred_cv, labels=rc.classes_, eps=1e-15))"
   ]
  },
  {
   "cell_type": "code",
   "execution_count": 51,
   "metadata": {},
   "outputs": [
    {
     "name": "stdout",
     "output_type": "stream",
     "text": [
      "the cross validation loss: 0.10088724121671039\n",
      "the test loss: 0.7702161928617549\n"
     ]
    }
   ],
   "source": [
    "rc = RandomForestClassifier(n_estimators=1000,random_state=0,n_jobs=-1)\n",
    "rc.fit(x_train,y_train)\n",
    "\n",
    "clf = CalibratedClassifierCV(rc, method=\"sigmoid\")\n",
    "clf.fit(x_train, y_train)\n",
    "\n",
    "y_pred_cv = clf.predict_proba(x_cv)\n",
    "\n",
    "y_pred_test_prob = clf.predict_proba(x_test)\n",
    "\n",
    "y_pred_test = rc.predict(x_test)\n",
    "\n",
    "print(\"the cross validation loss:\",log_loss(y_cv, y_pred_cv, labels=rc.classes_, eps=1e-15))\n",
    "print(\"the test loss:\",log_loss(y_test, y_pred_test, labels=rc.classes_, eps=1e-15))"
   ]
  },
  {
   "cell_type": "code",
   "execution_count": 52,
   "metadata": {},
   "outputs": [
    {
     "name": "stdout",
     "output_type": "stream",
     "text": [
      "              precision    recall  f1-score   support\n",
      "\n",
      "           0       0.98      1.00      0.99     19588\n",
      "           1       0.07      0.01      0.01       412\n",
      "\n",
      "   micro avg       0.98      0.98      0.98     20000\n",
      "   macro avg       0.53      0.50      0.50     20000\n",
      "weighted avg       0.96      0.98      0.97     20000\n",
      "\n"
     ]
    }
   ],
   "source": [
    "print(classification_report(y_test, y_pred_test))"
   ]
  },
  {
   "cell_type": "code",
   "execution_count": 53,
   "metadata": {},
   "outputs": [
    {
     "name": "stdout",
     "output_type": "stream",
     "text": [
      "0.9777\n"
     ]
    }
   ],
   "source": [
    "print(accuracy_score(y_test, y_pred_test))"
   ]
  },
  {
   "cell_type": "code",
   "execution_count": null,
   "metadata": {},
   "outputs": [],
   "source": []
  }
 ],
 "metadata": {
  "kernelspec": {
   "display_name": "Python 3",
   "language": "python",
   "name": "python3"
  },
  "language_info": {
   "codemirror_mode": {
    "name": "ipython",
    "version": 3
   },
   "file_extension": ".py",
   "mimetype": "text/x-python",
   "name": "python",
   "nbconvert_exporter": "python",
   "pygments_lexer": "ipython3",
   "version": "3.7.1"
  }
 },
 "nbformat": 4,
 "nbformat_minor": 2
}
